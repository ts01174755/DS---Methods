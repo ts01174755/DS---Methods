{
 "cells": [
  {
   "cell_type": "markdown",
   "metadata": {},
   "source": [
    "# Python 觀念筆記"
   ]
  },
  {
   "cell_type": "markdown",
   "metadata": {},
   "source": [
    "## 1.  Copy 、 Deepcopy 、 =\n",
    "\n",
    "前面介紹list時提到在python中數據類型分為可變與不可變型別：\n",
    "\n",
    ">可變物件：該物件所指向記憶體中的值可以被改變\n",
    "\n",
    ">不可變物件：該物件所指向記憶體中的值不可以被改變，所以當變數指向的值改變時，等於將原來的值複製一份後存於一個新的地址，變數再指向這個新的地址\n",
    "\n",
    "### 白話文:\n",
    "\n",
    "**1. = 令參數為物件別名**\n",
    "\n",
    "**2. copy() 保證複製原始物件中的\"不可變物件\"，\"可變物件\"則共用。**\n",
    "\n",
    "**3. deepcopy() 保證複製原始物件中的\"不可變物件\" 以及 \"可變物件\"。**\n"
   ]
  },
  {
   "cell_type": "markdown",
   "metadata": {},
   "source": [
    "### = - 用不同參數指向同一物件，參數只是物件的別名:\n",
    "在Python中，指派語句(Assignment statements,'=')並不會複製對象，只是將變數'指派'為一個物件，是故當有兩個變數指派同一個物件時，改變其中一個變數則同時改變另一變數。\n"
   ]
  },
  {
   "cell_type": "code",
   "execution_count": 25,
   "metadata": {},
   "outputs": [
    {
     "data": {
      "text/plain": [
       "5"
      ]
     },
     "execution_count": 25,
     "metadata": {},
     "output_type": "execute_result"
    }
   ],
   "source": [
    "x=y=5\n",
    "x=2\n",
    "y"
   ]
  },
  {
   "cell_type": "code",
   "execution_count": 29,
   "metadata": {},
   "outputs": [
    {
     "data": {
      "text/plain": [
       "[7, 6, 7]"
      ]
     },
     "execution_count": 29,
     "metadata": {},
     "output_type": "execute_result"
    }
   ],
   "source": [
    "# x,y 都是[5,6,7]的別名\n",
    "x=y=[5,6,7]\n",
    "x[0]=7\n",
    "y"
   ]
  },
  {
   "cell_type": "markdown",
   "metadata": {},
   "source": [
    "### copy - 複製的過程中遵守\"可變物件\"、\"不可變物件\"的複製規則:\n",
    "1. 複製\"可變物件\":創建新參數指向原始\"可變物件\"。\n",
    "2. 複製\"不可變物件\":創建新參數指向所複製的新數值。"
   ]
  },
  {
   "cell_type": "code",
   "execution_count": 32,
   "metadata": {},
   "outputs": [
    {
     "name": "stdout",
     "output_type": "stream",
     "text": [
      "True\n",
      "True\n",
      "False\n",
      "True\n"
     ]
    }
   ],
   "source": [
    "x=[0,[1,2,3]]\n",
    "y = x.copy()\n",
    "print(id(y[0]) == id(x[0]))\n",
    "print(id(y[1]) == id(x[1]))\n",
    "y[0] = 1\n",
    "y[1][1] = 2\n",
    "print(id(y[0]) == id(x[0]))\n",
    "print(id(y[1]) == id(x[1]))"
   ]
  },
  {
   "cell_type": "markdown",
   "metadata": {},
   "source": [
    "### deepcopy - 遞迴複製物件內容，用新參數指派。"
   ]
  },
  {
   "cell_type": "code",
   "execution_count": 33,
   "metadata": {},
   "outputs": [
    {
     "name": "stdout",
     "output_type": "stream",
     "text": [
      "True\n",
      "False\n",
      "False\n",
      "False\n"
     ]
    }
   ],
   "source": [
    "import copy\n",
    "\n",
    "x=[0,[1,2,3]]\n",
    "y = copy.deepcopy(x)\n",
    "print(id(y[0]) == id(x[0]))\n",
    "print(id(y[1]) == id(x[1]))\n",
    "y[0] = 1\n",
    "y[1][1] = 2\n",
    "print(id(y[0]) == id(x[0]))\n",
    "print(id(y[1]) == id(x[1]))"
   ]
  },
  {
   "cell_type": "code",
   "execution_count": null,
   "metadata": {},
   "outputs": [],
   "source": []
  }
 ],
 "metadata": {
  "kernelspec": {
   "display_name": "Python 3",
   "language": "python",
   "name": "python3"
  },
  "language_info": {
   "codemirror_mode": {
    "name": "ipython",
    "version": 3
   },
   "file_extension": ".py",
   "mimetype": "text/x-python",
   "name": "python",
   "nbconvert_exporter": "python",
   "pygments_lexer": "ipython3",
   "version": "3.7.6"
  }
 },
 "nbformat": 4,
 "nbformat_minor": 4
}
